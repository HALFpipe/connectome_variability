{
 "cells": [
  {
   "cell_type": "code",
   "execution_count": 2,
   "metadata": {},
   "outputs": [],
   "source": [
    "from typing import  Iterator,  MutableSequence\n",
    "\n",
    "def tokenize(stem: str) -> tuple[MutableSequence[str | None], MutableSequence[str]]:\n",
    "    tokens = stem.split(\"_\")\n",
    "    keys: MutableSequence[str | None] = list()\n",
    "    values: MutableSequence[str] = list()\n",
    "    for token in tokens:\n",
    "        if \"-\" in token:  # A bids tag\n",
    "            key: str | None = token.split(\"-\")[0]\n",
    "            if key is None:\n",
    "                continue\n",
    "            keys.append(key)\n",
    "            values.append(token[len(key) + 1 :])\n",
    "\n",
    "        else:  # A suffix\n",
    "            keys.append(None)\n",
    "            values.append(token)\n",
    "    return keys, values\n",
    "\n",
    "def parse(phenotype: str) -> Iterator[tuple[str, str]]:\n",
    "    keys, values = tokenize(phenotype)\n",
    "\n",
    "    for key, value in zip(keys, values, strict=False):\n",
    "        if key is None:\n",
    "            continue\n",
    "        yield (key, value)"
   ]
  },
  {
   "cell_type": "code",
   "execution_count": 3,
   "metadata": {},
   "outputs": [],
   "source": [
    "from collections import defaultdict\n",
    "import zipfile\n",
    "from pathlib import Path\n",
    "from typing import Iterator\n",
    "\n",
    "base_path = Path(\"/scratch/imaging/consistency-check/data\")\n",
    "\n",
    "\n",
    "def find_seed_corr(path: zipfile.Path) -> Iterator[zipfile.Path]:\n",
    "    stack = [path]\n",
    "    while stack:\n",
    "        for path in stack.pop().iterdir():\n",
    "            if path.is_dir():\n",
    "                stack.append(path)\n",
    "                continue\n",
    "            if \"SeedCorr\" in path.name:\n",
    "                yield path\n",
    "\n",
    "\n",
    "image_paths_by_sub_and_feature = defaultdict(lambda: defaultdict(list))\n",
    "for zip_file_path in base_path.glob(\"*.zip\"):\n",
    "    try:\n",
    "        zip_path = zipfile.Path(zip_file_path)\n",
    "    except zipfile.BadZipFile:\n",
    "        continue\n",
    "    for image_path in find_seed_corr(zip_path):\n",
    "        tags = dict(parse(image_path.stem))\n",
    "        sub = tags[\"sub\"]\n",
    "        feature = tags[\"feature\"]\n",
    "        image_paths_by_sub_and_feature[sub][feature].append(image_path)"
   ]
  },
  {
   "cell_type": "code",
   "execution_count": 23,
   "metadata": {},
   "outputs": [],
   "source": [
    "from itertools import chain\n",
    "\n",
    "\n",
    "subjects = image_paths_by_sub_and_feature.keys()\n",
    "features = set(chain.from_iterable(x.keys() for x in image_paths_by_sub_and_feature.values()))"
   ]
  },
  {
   "cell_type": "code",
   "execution_count": 5,
   "metadata": {},
   "outputs": [
    {
     "data": {
      "text/plain": [
       "100"
      ]
     },
     "execution_count": 5,
     "metadata": {},
     "output_type": "execute_result"
    }
   ],
   "source": [
    "sub = \"9040\"\n",
    "feature = \"FalseComb2SeedCorr\"\n",
    "\n",
    "len(image_paths)"
   ]
  },
  {
   "cell_type": "code",
   "execution_count": 30,
   "metadata": {},
   "outputs": [],
   "source": [
    "import nibabel as nib\n",
    "import numpy as np\n",
    "import gzip\n",
    "from tqdm.auto import tqdm\n",
    "for sub in subjects:\n",
    "    feature_arrays = list()\n",
    "    for feature in features:\n",
    "        fdata = list()\n",
    "        image_paths = image_paths_by_sub_and_feature[sub][feature]\n",
    "        for image_path in image_paths:\n",
    "            with image_path.open(\"rb\") as compressed_file_handle:\n",
    "                with gzip.open(compressed_file_handle) as file_handle:\n",
    "                    try:\n",
    "                        image = nib.nifti1.Nifti1Image.from_stream(file_handle)\n",
    "                        fdata.append(image.get_fdata()[..., np.newaxis])\n",
    "                    except Exception:\n",
    "                        pass\n",
    "        feature_array = np.concatenate(fdata, axis=3)[..., np.newaxis]\n",
    "        feature_arrays.append(feature_array)\n",
    "    subject_array = np.concatenate(feature_arrays, axis=4)\n",
    "    np.savez(base_path / f\"sub-{sub}_seed.npz\")"
   ]
  },
  {
   "cell_type": "code",
   "execution_count": 28,
   "metadata": {},
   "outputs": [
    {
     "data": {
      "text/plain": [
       "(9700, 115, 97)"
      ]
     },
     "execution_count": 28,
     "metadata": {},
     "output_type": "execute_result"
    }
   ],
   "source": []
  }
 ],
 "metadata": {
  "kernelspec": {
   "display_name": "Python 3 (ipykernel)",
   "language": "python",
   "name": "python3"
  },
  "language_info": {
   "codemirror_mode": {
    "name": "ipython",
    "version": 3
   },
   "file_extension": ".py",
   "mimetype": "text/x-python",
   "name": "python",
   "nbconvert_exporter": "python",
   "pygments_lexer": "ipython3",
   "version": "3.12.1"
  }
 },
 "nbformat": 4,
 "nbformat_minor": 4
}
